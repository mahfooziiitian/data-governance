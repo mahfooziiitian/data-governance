{
 "cells": [
  {
   "cell_type": "code",
   "execution_count": 7,
   "metadata": {},
   "outputs": [],
   "source": [
    "from dbcat.api import open_catalog, add_postgresql_source\n",
    "from piicatcher.api import scan_database"
   ]
  },
  {
   "cell_type": "code",
   "execution_count": 8,
   "metadata": {},
   "outputs": [],
   "source": [
    "import os\n",
    "data_home=os.environ[\"DATA_HOME\"]+\"\\\\Database\\\\Setup\\\\sqllite\\\\db\""
   ]
  },
  {
   "cell_type": "code",
   "execution_count": 10,
   "metadata": {},
   "outputs": [],
   "source": [
    "catalog = open_catalog(app_dir=\"pg_db\", secret=\"postgres\", host=\"localhost\",user=\"postgres\", password=\"postgres\",database=\"chatgpt\")"
   ]
  },
  {
   "cell_type": "code",
   "execution_count": 11,
   "metadata": {},
   "outputs": [
    {
     "ename": "NoMatchesError",
     "evalue": "",
     "output_type": "error",
     "traceback": [
      "\u001b[1;31m---------------------------------------------------------------------------\u001b[0m",
      "\u001b[1;31mStopIteration\u001b[0m                             Traceback (most recent call last)",
      "File \u001b[1;32mc:\\Users\\Mohammed_Alam\\Anaconda3\\envs\\pii\\lib\\site-packages\\dbcat\\api.py:140\u001b[0m, in \u001b[0;36mscan_sources\u001b[1;34m(catalog, source_names, include_schema_regex, exclude_schema_regex, include_table_regex, exclude_table_regex)\u001b[0m\n\u001b[0;32m    139\u001b[0m \u001b[39mtry\u001b[39;00m:\n\u001b[1;32m--> 140\u001b[0m     scanner\u001b[39m.\u001b[39;49mscan()\n\u001b[0;32m    141\u001b[0m \u001b[39mexcept\u001b[39;00m \u001b[39mStopIteration\u001b[39;00m:\n",
      "File \u001b[1;32mc:\\Users\\Mohammed_Alam\\Anaconda3\\envs\\pii\\lib\\site-packages\\dbcat\\catalog\\db.py:133\u001b[0m, in \u001b[0;36mDbScanner.scan\u001b[1;34m(self)\u001b[0m\n\u001b[0;32m    131\u001b[0m extractor\u001b[39m.\u001b[39minit(Scoped\u001b[39m.\u001b[39mget_scoped_conf(\u001b[39mself\u001b[39m\u001b[39m.\u001b[39m_conf, extractor\u001b[39m.\u001b[39mget_scope()))\n\u001b[1;32m--> 133\u001b[0m record: TableMetadata \u001b[39m=\u001b[39m \u001b[39mnext\u001b[39;49m(\u001b[39mself\u001b[39;49m\u001b[39m.\u001b[39;49m_filter_rows(extractor))\n\u001b[0;32m    134\u001b[0m \u001b[39mtry\u001b[39;00m:\n",
      "\u001b[1;31mStopIteration\u001b[0m: ",
      "\nDuring handling of the above exception, another exception occurred:\n",
      "\u001b[1;31mNoMatchesError\u001b[0m                            Traceback (most recent call last)",
      "Cell \u001b[1;32mIn[11], line 9\u001b[0m\n\u001b[0;32m      1\u001b[0m \u001b[39mwith\u001b[39;00m catalog\u001b[39m.\u001b[39mmanaged_session:\n\u001b[0;32m      2\u001b[0m     \u001b[39m# Add a postgresql source\u001b[39;00m\n\u001b[0;32m      3\u001b[0m     source \u001b[39m=\u001b[39m add_postgresql_source(catalog\u001b[39m=\u001b[39mcatalog, \n\u001b[0;32m      4\u001b[0m                                    name\u001b[39m=\u001b[39m\u001b[39m\"\u001b[39m\u001b[39mpostgres\u001b[39m\u001b[39m\"\u001b[39m, \n\u001b[0;32m      5\u001b[0m                                    uri\u001b[39m=\u001b[39m\u001b[39m\"\u001b[39m\u001b[39m127.0.0.1\u001b[39m\u001b[39m\"\u001b[39m, \n\u001b[0;32m      6\u001b[0m                                    username\u001b[39m=\u001b[39m\u001b[39m\"\u001b[39m\u001b[39mpostgres\u001b[39m\u001b[39m\"\u001b[39m,\n\u001b[0;32m      7\u001b[0m                                     password\u001b[39m=\u001b[39m\u001b[39m\"\u001b[39m\u001b[39mpostgres\u001b[39m\u001b[39m\"\u001b[39m, \n\u001b[0;32m      8\u001b[0m                                     database\u001b[39m=\u001b[39m\u001b[39m\"\u001b[39m\u001b[39mpostgres\u001b[39m\u001b[39m\"\u001b[39m)\n\u001b[1;32m----> 9\u001b[0m     output \u001b[39m=\u001b[39m scan_database(catalog\u001b[39m=\u001b[39;49mcatalog, source\u001b[39m=\u001b[39;49msource)\n\u001b[0;32m     11\u001b[0m \u001b[39mprint\u001b[39m(output)\n",
      "File \u001b[1;32mc:\\Users\\Mohammed_Alam\\Anaconda3\\envs\\pii\\lib\\site-packages\\piicatcher\\api.py:63\u001b[0m, in \u001b[0;36mscan_database\u001b[1;34m(catalog, source, scan_type, incremental, output_format, list_all, include_schema_regex, exclude_schema_regex, include_table_regex, exclude_table_regex, sample_size)\u001b[0m\n\u001b[0;32m     60\u001b[0m exit_code \u001b[39m=\u001b[39m \u001b[39m0\u001b[39m\n\u001b[0;32m     62\u001b[0m \u001b[39mwith\u001b[39;00m catalog\u001b[39m.\u001b[39mmanaged_session:\n\u001b[1;32m---> 63\u001b[0m     scan_sources(\n\u001b[0;32m     64\u001b[0m         catalog\u001b[39m=\u001b[39;49mcatalog,\n\u001b[0;32m     65\u001b[0m         source_names\u001b[39m=\u001b[39;49m[source\u001b[39m.\u001b[39;49mname],\n\u001b[0;32m     66\u001b[0m         include_schema_regex\u001b[39m=\u001b[39;49minclude_schema_regex,\n\u001b[0;32m     67\u001b[0m         exclude_schema_regex\u001b[39m=\u001b[39;49mexclude_schema_regex,\n\u001b[0;32m     68\u001b[0m         include_table_regex\u001b[39m=\u001b[39;49minclude_table_regex,\n\u001b[0;32m     69\u001b[0m         exclude_table_regex\u001b[39m=\u001b[39;49mexclude_table_regex,\n\u001b[0;32m     70\u001b[0m     )\n\u001b[0;32m     72\u001b[0m     last_run: Optional[datetime\u001b[39m.\u001b[39mdatetime] \u001b[39m=\u001b[39m \u001b[39mNone\u001b[39;00m\n\u001b[0;32m     73\u001b[0m     \u001b[39mif\u001b[39;00m incremental:\n",
      "File \u001b[1;32mc:\\Users\\Mohammed_Alam\\Anaconda3\\envs\\pii\\lib\\site-packages\\dbcat\\api.py:142\u001b[0m, in \u001b[0;36mscan_sources\u001b[1;34m(catalog, source_names, include_schema_regex, exclude_schema_regex, include_table_regex, exclude_table_regex)\u001b[0m\n\u001b[0;32m    140\u001b[0m     scanner\u001b[39m.\u001b[39mscan()\n\u001b[0;32m    141\u001b[0m \u001b[39mexcept\u001b[39;00m \u001b[39mStopIteration\u001b[39;00m:\n\u001b[1;32m--> 142\u001b[0m     \u001b[39mraise\u001b[39;00m NoMatchesError\n",
      "\u001b[1;31mNoMatchesError\u001b[0m: "
     ]
    }
   ],
   "source": [
    "with catalog.managed_session:\n",
    "    # Add a postgresql source\n",
    "    source = add_postgresql_source(catalog=catalog, \n",
    "                                   name=\"postgres\", \n",
    "                                   uri=\"127.0.0.1\", \n",
    "                                   username=\"postgres\",\n",
    "                                    password=\"postgres\", \n",
    "                                    database=\"postgres\")\n",
    "    output = scan_database(catalog=catalog, source=source)\n",
    "\n",
    "print(output)"
   ]
  }
 ],
 "metadata": {
  "kernelspec": {
   "display_name": "dg",
   "language": "python",
   "name": "python3"
  },
  "language_info": {
   "codemirror_mode": {
    "name": "ipython",
    "version": 3
   },
   "file_extension": ".py",
   "mimetype": "text/x-python",
   "name": "python",
   "nbconvert_exporter": "python",
   "pygments_lexer": "ipython3",
   "version": "3.9.16"
  },
  "orig_nbformat": 4
 },
 "nbformat": 4,
 "nbformat_minor": 2
}
